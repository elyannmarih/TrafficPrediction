{
  "nbformat": 4,
  "nbformat_minor": 0,
  "metadata": {
    "colab": {
      "provenance": [],
      "toc_visible": true,
      "authorship_tag": "ABX9TyMT/TeochopAyt9t1Qf4j89",
      "include_colab_link": true
    },
    "kernelspec": {
      "name": "python3",
      "display_name": "Python 3"
    },
    "language_info": {
      "name": "python"
    }
  },
  "cells": [
    {
      "cell_type": "markdown",
      "metadata": {
        "id": "view-in-github",
        "colab_type": "text"
      },
      "source": [
        "<a href=\"https://colab.research.google.com/github/elyannmarih/TrafficPrediction/blob/main/notebooks/TrafficPrediction_baseline.ipynb\" target=\"_parent\"><img src=\"https://colab.research.google.com/assets/colab-badge.svg\" alt=\"Open In Colab\"/></a>"
      ]
    },
    {
      "cell_type": "markdown",
      "source": [
        "#Mount Drive"
      ],
      "metadata": {
        "id": "V9dlMmz6259C"
      }
    },
    {
      "cell_type": "code",
      "execution_count": 1,
      "metadata": {
        "colab": {
          "base_uri": "https://localhost:8080/"
        },
        "id": "68o00Lly2cag",
        "outputId": "efe85743-e704-4dfc-da32-2f39bcac7dd5"
      },
      "outputs": [
        {
          "output_type": "stream",
          "name": "stdout",
          "text": [
            "Mounted at /content/drive\n"
          ]
        }
      ],
      "source": [
        "from google.colab import drive\n",
        "drive.mount('/content/drive')"
      ]
    },
    {
      "cell_type": "markdown",
      "source": [
        "#Load preprocessed splits + stats"
      ],
      "metadata": {
        "id": "pl2wglS8271I"
      }
    },
    {
      "cell_type": "code",
      "source": [
        "import numpy as np\n",
        "\n",
        "# Load normalized train/val/test splits\n",
        "train_norm = np.load(\"/content/drive/MyDrive/traffic_data/train_norm.npz\")[\"data\"]\n",
        "val_norm   = np.load(\"/content/drive/MyDrive/traffic_data/val_norm.npz\")[\"data\"]\n",
        "test_norm  = np.load(\"/content/drive/MyDrive/traffic_data/test_norm.npz\")[\"data\"]\n",
        "\n",
        "# Load normalization stats (needed for denormalizing predictions later)\n",
        "stats = np.load(\"/content/drive/MyDrive/traffic_data/normalization_stats.npz\")\n",
        "mean_per_sensor = stats[\"mean\"]\n",
        "std_per_sensor  = stats[\"std\"]\n",
        "\n",
        "print(\"Train:\", train_norm.shape, \"Val:\", val_norm.shape, \"Test:\", test_norm.shape)\n"
      ],
      "metadata": {
        "colab": {
          "base_uri": "https://localhost:8080/"
        },
        "id": "jESa1XiB3A2R",
        "outputId": "ad6bd124-7064-4894-d2cf-3fdc1ef38a6c"
      },
      "execution_count": 4,
      "outputs": [
        {
          "output_type": "stream",
          "name": "stdout",
          "text": [
            "Train: (23990, 207, 3) Val: (3427, 207, 3) Test: (6855, 207, 3)\n"
          ]
        }
      ]
    },
    {
      "cell_type": "markdown",
      "source": [
        "#Sliding windows"
      ],
      "metadata": {
        "id": "qUPQmxEU3iS3"
      }
    },
    {
      "cell_type": "code",
      "source": [
        "#Now we need to cut the time series into supervised learning samples:\n",
        "#Input = last lookback steps (for example: 12 = 1 hour)\n",
        "#Output = next horizon steps (for example: 3 = 15 min)\n",
        "\n",
        "def create_sliding_windows(data, lookback=12, horizon=3):\n",
        "    \"\"\"\n",
        "    data: [time, sensors, features]\n",
        "    lookback: number of past steps to use as input\n",
        "    horizon: number of future steps to predict\n",
        "    \"\"\"\n",
        "    X, Y = [], []\n",
        "    T = data.shape[0]\n",
        "\n",
        "    for t in range(T - lookback - horizon):\n",
        "        x_t = data[t:t+lookback, :, 0]   # only speed feature\n",
        "        y_t = data[t+lookback:t+lookback+horizon, :, 0]\n",
        "        X.append(x_t)\n",
        "        Y.append(y_t)\n",
        "\n",
        "    return np.array(X), np.array(Y)\n",
        "\n",
        "# Example with train data\n",
        "X_train, Y_train = create_sliding_windows(train_norm, lookback=12, horizon=3)\n",
        "X_val, Y_val     = create_sliding_windows(val_norm, lookback=12, horizon=3)\n",
        "X_test, Y_test   = create_sliding_windows(test_norm, lookback=12, horizon=3)\n",
        "\n",
        "print(\"X_train:\", X_train.shape, \"Y_train:\", Y_train.shape)\n"
      ],
      "metadata": {
        "colab": {
          "base_uri": "https://localhost:8080/"
        },
        "id": "MvalIAmM3jEc",
        "outputId": "cd983088-13ed-49af-ad53-d838d2a7d7d9"
      },
      "execution_count": 5,
      "outputs": [
        {
          "output_type": "stream",
          "name": "stdout",
          "text": [
            "X_train: (23975, 12, 207) Y_train: (23975, 3, 207)\n"
          ]
        }
      ]
    },
    {
      "cell_type": "markdown",
      "source": [
        "#Training baseline LSTM model"
      ],
      "metadata": {
        "id": "2Fox40qm4PPE"
      }
    },
    {
      "cell_type": "markdown",
      "source": [
        "##Imports"
      ],
      "metadata": {
        "id": "RsHE0nq-4U4R"
      }
    },
    {
      "cell_type": "code",
      "source": [
        "import torch\n",
        "import torch.nn as nn\n",
        "from torch.utils.data import DataLoader, TensorDataset\n"
      ],
      "metadata": {
        "id": "9mh2wFMo3nND"
      },
      "execution_count": 6,
      "outputs": []
    },
    {
      "cell_type": "markdown",
      "source": [
        "##Convert sliding windows to PyTorch datasets"
      ],
      "metadata": {
        "id": "JQxOJrQ34Z3d"
      }
    },
    {
      "cell_type": "code",
      "source": [
        "# Convert numpy arrays to PyTorch tensors\n",
        "X_train_t = torch.tensor(X_train, dtype=torch.float32)\n",
        "Y_train_t = torch.tensor(Y_train, dtype=torch.float32)\n",
        "X_val_t   = torch.tensor(X_val, dtype=torch.float32)\n",
        "Y_val_t   = torch.tensor(Y_val, dtype=torch.float32)\n",
        "\n",
        "# Create DataLoaders\n",
        "batch_size = 64\n",
        "train_loader = DataLoader(TensorDataset(X_train_t, Y_train_t), batch_size=batch_size, shuffle=True)\n",
        "val_loader   = DataLoader(TensorDataset(X_val_t, Y_val_t), batch_size=batch_size)\n"
      ],
      "metadata": {
        "id": "NPAqDjnC4YO5"
      },
      "execution_count": 7,
      "outputs": []
    },
    {
      "cell_type": "markdown",
      "source": [
        "##Define LSTM model"
      ],
      "metadata": {
        "id": "gbgXLOWZ4avl"
      }
    },
    {
      "cell_type": "code",
      "source": [
        "class TrafficLSTM(nn.Module):\n",
        "    def __init__(self, num_sensors=207, lookback=12, horizon=3, hidden_size=64, num_layers=1):\n",
        "        super(TrafficLSTM, self).__init__()\n",
        "        self.num_sensors = num_sensors\n",
        "        self.horizon = horizon\n",
        "        self.hidden_size = hidden_size\n",
        "\n",
        "        # LSTM expects input: (batch, seq_len, features)\n",
        "        self.lstm = nn.LSTM(input_size=num_sensors, hidden_size=hidden_size,\n",
        "                            num_layers=num_layers, batch_first=True)\n",
        "\n",
        "        # Fully connected: hidden_size → horizon * num_sensors\n",
        "        self.fc = nn.Linear(hidden_size, horizon * num_sensors)\n",
        "\n",
        "    def forward(self, x):\n",
        "        # x: (batch, lookback, num_sensors)\n",
        "        out, _ = self.lstm(x)  # (batch, lookback, hidden_size)\n",
        "        last_hidden = out[:, -1, :]  # take last time step\n",
        "        out = self.fc(last_hidden)   # (batch, horizon*num_sensors)\n",
        "        out = out.view(-1, self.horizon, self.num_sensors)  # reshape\n",
        "        return out\n"
      ],
      "metadata": {
        "id": "D1-UqAIG4d0f"
      },
      "execution_count": 8,
      "outputs": []
    },
    {
      "cell_type": "markdown",
      "source": [
        "##Initialize model, loss, optimizer"
      ],
      "metadata": {
        "id": "W3_79qoY4ibw"
      }
    },
    {
      "cell_type": "code",
      "source": [
        "device = torch.device(\"cuda\" if torch.cuda.is_available() else \"cpu\")\n",
        "\n",
        "model = TrafficLSTM(num_sensors=207, lookback=12, horizon=3, hidden_size=64).to(device)\n",
        "criterion = nn.MSELoss()\n",
        "optimizer = torch.optim.Adam(model.parameters(), lr=1e-3)\n"
      ],
      "metadata": {
        "id": "ortgjXxb4jUI"
      },
      "execution_count": 9,
      "outputs": []
    },
    {
      "cell_type": "markdown",
      "source": [
        "##Training loop"
      ],
      "metadata": {
        "id": "-SoH4tf-4mOs"
      }
    },
    {
      "cell_type": "code",
      "source": [
        "def train_model(model, train_loader, val_loader, epochs=20):\n",
        "    for epoch in range(epochs):\n",
        "        model.train()\n",
        "        train_loss = 0.0\n",
        "        for X, Y in train_loader:\n",
        "            X, Y = X.to(device), Y.to(device)\n",
        "            optimizer.zero_grad()\n",
        "            preds = model(X)\n",
        "            loss = criterion(preds, Y)\n",
        "            loss.backward()\n",
        "            optimizer.step()\n",
        "            train_loss += loss.item() * X.size(0)\n",
        "\n",
        "        train_loss /= len(train_loader.dataset)\n",
        "\n",
        "        # Validation\n",
        "        model.eval()\n",
        "        val_loss = 0.0\n",
        "        with torch.no_grad():\n",
        "            for X, Y in val_loader:\n",
        "                X, Y = X.to(device), Y.to(device)\n",
        "                preds = model(X)\n",
        "                loss = criterion(preds, Y)\n",
        "                val_loss += loss.item() * X.size(0)\n",
        "        val_loss /= len(val_loader.dataset)\n",
        "\n",
        "        print(f\"Epoch {epoch+1}/{epochs}, Train Loss: {train_loss:.4f}, Val Loss: {val_loss:.4f}\")\n",
        "\n",
        "train_model(model, train_loader, val_loader, epochs=20)\n"
      ],
      "metadata": {
        "colab": {
          "base_uri": "https://localhost:8080/"
        },
        "id": "_uV3hbGr4m1Q",
        "outputId": "67fd31be-6bb0-4a94-f745-4d7ea4b3d2d7"
      },
      "execution_count": 10,
      "outputs": [
        {
          "output_type": "stream",
          "name": "stdout",
          "text": [
            "Epoch 1/20, Train Loss: 0.5173, Val Loss: 0.4525\n",
            "Epoch 2/20, Train Loss: 0.3724, Val Loss: 0.3997\n",
            "Epoch 3/20, Train Loss: 0.3316, Val Loss: 0.3744\n",
            "Epoch 4/20, Train Loss: 0.3118, Val Loss: 0.3619\n",
            "Epoch 5/20, Train Loss: 0.3000, Val Loss: 0.3551\n",
            "Epoch 6/20, Train Loss: 0.2920, Val Loss: 0.3486\n",
            "Epoch 7/20, Train Loss: 0.2862, Val Loss: 0.3473\n",
            "Epoch 8/20, Train Loss: 0.2819, Val Loss: 0.3445\n",
            "Epoch 9/20, Train Loss: 0.2787, Val Loss: 0.3407\n",
            "Epoch 10/20, Train Loss: 0.2764, Val Loss: 0.3401\n",
            "Epoch 11/20, Train Loss: 0.2742, Val Loss: 0.3373\n",
            "Epoch 12/20, Train Loss: 0.2726, Val Loss: 0.3362\n",
            "Epoch 13/20, Train Loss: 0.2712, Val Loss: 0.3373\n",
            "Epoch 14/20, Train Loss: 0.2701, Val Loss: 0.3354\n",
            "Epoch 15/20, Train Loss: 0.2691, Val Loss: 0.3350\n",
            "Epoch 16/20, Train Loss: 0.2682, Val Loss: 0.3337\n",
            "Epoch 17/20, Train Loss: 0.2674, Val Loss: 0.3338\n",
            "Epoch 18/20, Train Loss: 0.2668, Val Loss: 0.3367\n",
            "Epoch 19/20, Train Loss: 0.2662, Val Loss: 0.3321\n",
            "Epoch 20/20, Train Loss: 0.2657, Val Loss: 0.3337\n"
          ]
        }
      ]
    },
    {
      "cell_type": "markdown",
      "source": [
        "# Test"
      ],
      "metadata": {
        "id": "EVJd7E8h5E6U"
      }
    },
    {
      "cell_type": "code",
      "source": [
        "from sklearn.metrics import mean_absolute_error, mean_squared_error\n",
        "import math\n",
        "\n",
        "def evaluate_model(model, X_test, Y_test, mean, std):\n",
        "    model.eval()\n",
        "    X_test_t = torch.tensor(X_test, dtype=torch.float32).to(device)\n",
        "    Y_test_t = torch.tensor(Y_test, dtype=torch.float32).to(device)\n",
        "\n",
        "    with torch.no_grad():\n",
        "        preds = model(X_test_t).cpu().numpy()   # (samples, horizon, sensors)\n",
        "        Y_true = Y_test_t.cpu().numpy()\n",
        "\n",
        "    # Denormalize predictions and targets\n",
        "    preds = preds * std + mean\n",
        "    Y_true = Y_true * std + mean\n",
        "\n",
        "    # Compute MAE and RMSE across all horizons and sensors\n",
        "    mae = mean_absolute_error(Y_true.flatten(), preds.flatten())\n",
        "    rmse = math.sqrt(mean_squared_error(Y_true.flatten(), preds.flatten()))\n",
        "\n",
        "    return preds, Y_true, mae, rmse\n",
        "\n",
        "preds, Y_true, mae, rmse = evaluate_model(model, X_test, Y_test, mean_per_sensor, std_per_sensor)\n",
        "print(f\"Test MAE: {mae:.4f}, Test RMSE: {rmse:.4f}\")\n"
      ],
      "metadata": {
        "colab": {
          "base_uri": "https://localhost:8080/"
        },
        "id": "cH6e8JbK5IIL",
        "outputId": "3e976aa1-a1ff-4942-fad0-d49325d9af5e"
      },
      "execution_count": 11,
      "outputs": [
        {
          "output_type": "stream",
          "name": "stdout",
          "text": [
            "Test MAE: 3.6989, Test RMSE: 6.0114\n"
          ]
        }
      ]
    },
    {
      "cell_type": "markdown",
      "source": [
        "##Plot Predicted vs Actual (for one sensor)"
      ],
      "metadata": {
        "id": "_RZHXQNw5M9L"
      }
    },
    {
      "cell_type": "code",
      "source": [
        "import matplotlib.pyplot as plt\n",
        "\n",
        "# Pick one sensor (e.g., sensor 0)\n",
        "sensor_id = 0\n",
        "\n",
        "# Compare first 50 predictions for horizon=1 (5 minutes ahead)\n",
        "plt.figure(figsize=(10,4))\n",
        "plt.plot(Y_true[:50, 0, sensor_id], label=\"Actual\")\n",
        "plt.plot(preds[:50, 0, sensor_id], label=\"Predicted\")\n",
        "plt.xlabel(\"Time step\")\n",
        "plt.ylabel(\"Traffic speed (mph)\")\n",
        "plt.title(f\"Sensor {sensor_id} - Horizon 5min\")\n",
        "plt.legend()\n",
        "plt.show()\n"
      ],
      "metadata": {
        "colab": {
          "base_uri": "https://localhost:8080/",
          "height": 410
        },
        "id": "j1jbQiLK5LY7",
        "outputId": "e125138e-4465-4c90-ddac-3acde886eed3"
      },
      "execution_count": 12,
      "outputs": [
        {
          "output_type": "display_data",
          "data": {
            "text/plain": [
              "<Figure size 1000x400 with 1 Axes>"
            ],
            "image/png": "[encoded data removed]"
          },
          "metadata": {}
        }
      ]
    },
    {
      "cell_type": "markdown",
      "source": [
        "##Evaluate by horizons"
      ],
      "metadata": {
        "id": "_2tYG0pB5Per"
      }
    },
    {
      "cell_type": "code",
      "source": [
        "#Metrics at different horizons (5, 15, 30 min). We can slice predictions:\n",
        "def evaluate_by_horizon(preds, Y_true, mean, std):\n",
        "    horizons = preds.shape[1]  # for example: 3 = 15min\n",
        "    metrics = {}\n",
        "    for h in range(horizons):\n",
        "        pred_h = preds[:, h, :] * std + mean\n",
        "        true_h = Y_true[:, h, :] * std + mean\n",
        "        mae = mean_absolute_error(true_h.flatten(), pred_h.flatten())\n",
        "        rmse = math.sqrt(mean_squared_error(true_h.flatten(), pred_h.flatten()))\n",
        "        metrics[h+1] = (mae, rmse)\n",
        "    return metrics\n",
        "\n",
        "metrics = evaluate_by_horizon(preds, Y_true, mean_per_sensor, std_per_sensor)\n",
        "for h, (mae, rmse) in metrics.items():\n",
        "    print(f\"Horizon {h}: MAE={mae:.4f}, RMSE={rmse:.4f}\")\n"
      ],
      "metadata": {
        "colab": {
          "base_uri": "https://localhost:8080/"
        },
        "id": "EtacdYgT5QQu",
        "outputId": "64ae7923-dc03-411b-91ec-9738bd9576a4"
      },
      "execution_count": 13,
      "outputs": [
        {
          "output_type": "stream",
          "name": "stdout",
          "text": [
            "Horizon 1: MAE=42.3508, RMSE=78.2880\n",
            "Horizon 2: MAE=44.0181, RMSE=82.8745\n",
            "Horizon 3: MAE=45.6411, RMSE=87.2815\n"
          ]
        }
      ]
    }
  ]
}